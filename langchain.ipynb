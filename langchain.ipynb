{
 "cells": [
  {
   "cell_type": "code",
   "execution_count": 1,
   "metadata": {
    "collapsed": true
   },
   "outputs": [],
   "source": [
    "#!pip install langchain\n",
    "#!pip install chromadb\n",
    "#!pip install tiktoken\n",
    "#!pip install openai\n",
    "\n",
    "import random\n",
    "import os\n",
    "\n",
    "\n",
    "from datetime import datetime, timedelta\n",
    "from langchain.document_loaders import TextLoader\n",
    "from langchain.indexes import VectorstoreIndexCreator\n",
    "from langchain.llms import OpenAI\n",
    "from langchain.chat_models import ChatOpenAI\n",
    "from dotenv import load_dotenv\n",
    "\n",
    "# define global variable data_file\n",
    "data_file = \"schedule.txt\""
   ]
  },
  {
   "cell_type": "code",
   "execution_count": 2,
   "outputs": [],
   "source": [
    "# create some demo data\n",
    "def create_data():\n",
    "    # List of possible activities\n",
    "    activities = [\n",
    "        \"Meeting with client\",\n",
    "        \"Lunch break\",\n",
    "        \"Project deadline\",\n",
    "        \"Team brainstorming\",\n",
    "        \"Training session\",\n",
    "        \"Coffee break\",\n",
    "        \"Presentation preparation\",\n",
    "        \"Networking event\",\n",
    "        \"Code review\",\n",
    "        \"Project meeting\"\n",
    "    ]\n",
    "\n",
    "    # List of possible names for meetings\n",
    "    meeting_names = [\n",
    "        \"Emma\",\n",
    "        \"Daniel\",\n",
    "        \"Olivia\",\n",
    "        \"Andrew\",\n",
    "        \"Sophia\"\n",
    "    ]\n",
    "\n",
    "    client_names = [\n",
    "        \"John\",\n",
    "        \"Jane\",\n",
    "        \"Michael\",\n",
    "        \"Emily\",\n",
    "        \"David\"\n",
    "    ]\n",
    "\n",
    "    # Number of schedule entries to generate\n",
    "    num_entries = 30\n",
    "\n",
    "    # Generate random schedule entries with dates, times, and names for meetings\n",
    "    schedule_entries = []\n",
    "    start_date = datetime.now()\n",
    "\n",
    "    for _ in range(num_entries):\n",
    "        entry_date = start_date + timedelta(days=random.randint(0, 7))\n",
    "        entry_time = random.randint(8, 17), random.randint(0, 59)\n",
    "        activity = random.choice(activities)\n",
    "\n",
    "        if activity == \"Meeting with client\":\n",
    "            person = random.choice(client_names)\n",
    "            schedule_entry = f\"{entry_date.strftime('%Y-%m-%d')} {entry_time[0]:02d}:{entry_time[1]:02d} - {activity} with {person}\"\n",
    "        elif activity == \"Project meeting\":\n",
    "            person = random.choice(meeting_names)\n",
    "            schedule_entry = f\"{entry_date.strftime('%Y-%m-%d')} {entry_time[0]:02d}:{entry_time[1]:02d} - {activity} with {person}\"\n",
    "        else:\n",
    "            schedule_entry = f\"{entry_date.strftime('%Y-%m-%d')} {entry_time[0]:02d}:{entry_time[1]:02d} - {activity}\"\n",
    "\n",
    "        schedule_entries.append(schedule_entry)\n",
    "\n",
    "    # Write schedule entries to a text file\n",
    "    with open(data_file, \"w\") as file:\n",
    "        for entry in schedule_entries:\n",
    "            file.write(entry + \"\\n\")\n",
    "\n",
    "    print(f\"{num_entries} schedule entries have been written to schedule.txt.\")\n"
   ],
   "metadata": {
    "collapsed": false
   }
  },
  {
   "cell_type": "code",
   "execution_count": 3,
   "outputs": [
    {
     "name": "stdout",
     "output_type": "stream",
     "text": [
      "30 schedule entries have been written to schedule.txt.\n"
     ]
    }
   ],
   "source": [
    "    create_data()\n",
    "    load_dotenv()\n",
    "\n",
    "    # Access the environment variable\n",
    "    api_key = os.getenv(\"API_KEY\")\n",
    "\n",
    "    os.environ[\"OPENAI_API_KEY\"] = api_key\n",
    "\n",
    "    loader = TextLoader(data_file)\n",
    "    index = VectorstoreIndexCreator().from_loaders([loader])"
   ],
   "metadata": {
    "collapsed": false
   }
  },
  {
   "cell_type": "code",
   "execution_count": 4,
   "outputs": [
    {
     "name": "stderr",
     "output_type": "stream",
     "text": [
      "Number of requested results 4 is greater than number of elements in index 2, updating n_results = 2\n"
     ]
    },
    {
     "name": "stdout",
     "output_type": "stream",
     "text": [
      " The schedule includes training sessions, project meetings, presentation preparation, team brainstorming, networking events, meetings with clients, coffee breaks, and lunch breaks.\n"
     ]
    },
    {
     "name": "stderr",
     "output_type": "stream",
     "text": [
      "Number of requested results 4 is greater than number of elements in index 2, updating n_results = 2\n"
     ]
    },
    {
     "name": "stdout",
     "output_type": "stream",
     "text": [
      " Yes, you have Project meetings on 2023-07-03 08:05, 2023-07-03 12:49, and 2023-07-08 13:21.\n"
     ]
    },
    {
     "name": "stderr",
     "output_type": "stream",
     "text": [
      "Number of requested results 4 is greater than number of elements in index 2, updating n_results = 2\n"
     ]
    },
    {
     "name": "stdout",
     "output_type": "stream",
     "text": [
      " You have meetings with clients with Jane, Michael, Emily, and Olivia.\n"
     ]
    },
    {
     "name": "stderr",
     "output_type": "stream",
     "text": [
      "Number of requested results 4 is greater than number of elements in index 2, updating n_results = 2\n"
     ]
    },
    {
     "name": "stdout",
     "output_type": "stream",
     "text": [
      " No, you do not have a meeting with Olivia on any of the dates listed.\n"
     ]
    }
   ],
   "source": [
    "    # test some queries on the index\n",
    "    query = \"Sum up the schedule\"\n",
    "    print(index.query(query))\n",
    "\n",
    "    query = \"Do I have Project meetings?\"\n",
    "    print(index.query(query))\n",
    "\n",
    "    query = \"What Meetings with clients do I have?\"\n",
    "    print(index.query(query))\n",
    "\n",
    "    query = \"Do I have Meetings with Olivia?\"\n",
    "    print(index.query(query))"
   ],
   "metadata": {
    "collapsed": false
   }
  }
 ],
 "metadata": {
  "kernelspec": {
   "display_name": "Python 3",
   "language": "python",
   "name": "python3"
  },
  "language_info": {
   "codemirror_mode": {
    "name": "ipython",
    "version": 2
   },
   "file_extension": ".py",
   "mimetype": "text/x-python",
   "name": "python",
   "nbconvert_exporter": "python",
   "pygments_lexer": "ipython2",
   "version": "2.7.6"
  }
 },
 "nbformat": 4,
 "nbformat_minor": 0
}
